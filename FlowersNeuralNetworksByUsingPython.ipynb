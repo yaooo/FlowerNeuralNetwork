{
 "cells": [
  {
   "cell_type": "code",
   "execution_count": 1,
   "metadata": {},
   "outputs": [],
   "source": [
    "%matplotlib inline"
   ]
  },
  {
   "cell_type": "code",
   "execution_count": 2,
   "metadata": {},
   "outputs": [],
   "source": [
    "from matplotlib import pyplot as plt\n",
    "import numpy as np"
   ]
  },
  {
   "cell_type": "code",
   "execution_count": 3,
   "metadata": {},
   "outputs": [],
   "source": [
    "# each point is length, width , type (0,1)\n",
    "data = [[3,1.5,1],\n",
    "       [2,1,0],\n",
    "       [4,1.5,1],\n",
    "       [3,1,0],\n",
    "       [3.5,0.5,1],\n",
    "       [2,0.5,0],\n",
    "       [5.5,1,1],\n",
    "       [1,1,0]]\n",
    "mystery_flower = [4.5,1]"
   ]
  },
  {
   "cell_type": "code",
   "execution_count": 4,
   "metadata": {},
   "outputs": [
    {
     "data": {
      "text/plain": [
       "[3, 1.5, 1]"
      ]
     },
     "execution_count": 4,
     "metadata": {},
     "output_type": "execute_result"
    }
   ],
   "source": [
    "data[0]"
   ]
  },
  {
   "cell_type": "code",
   "execution_count": 5,
   "metadata": {},
   "outputs": [
    {
     "data": {
      "text/plain": [
       "[2, 1, 0]"
      ]
     },
     "execution_count": 5,
     "metadata": {},
     "output_type": "execute_result"
    }
   ],
   "source": [
    "data[1]"
   ]
  },
  {
   "cell_type": "code",
   "execution_count": 41,
   "metadata": {},
   "outputs": [],
   "source": [
    "# network\n",
    "\n",
    "#       o     flower type\n",
    "#     /  \\    w1, w2, b \n",
    "#    o   o    length, width\n"
   ]
  },
  {
   "cell_type": "code",
   "execution_count": 42,
   "metadata": {},
   "outputs": [],
   "source": [
    "def sigmoid(x):\n",
    "    return 1/(1 + np.exp(-x))"
   ]
  },
  {
   "cell_type": "code",
   "execution_count": 43,
   "metadata": {},
   "outputs": [],
   "source": [
    "T = np.linspace (-20,20,100)"
   ]
  },
  {
   "cell_type": "code",
   "execution_count": 44,
   "metadata": {},
   "outputs": [
    {
     "data": {
      "text/plain": [
       "array([-20.        , -19.5959596 , -19.19191919, -18.78787879,\n",
       "       -18.38383838, -17.97979798, -17.57575758, -17.17171717,\n",
       "       -16.76767677, -16.36363636, -15.95959596, -15.55555556,\n",
       "       -15.15151515, -14.74747475, -14.34343434, -13.93939394,\n",
       "       -13.53535354, -13.13131313, -12.72727273, -12.32323232,\n",
       "       -11.91919192, -11.51515152, -11.11111111, -10.70707071,\n",
       "       -10.3030303 ,  -9.8989899 ,  -9.49494949,  -9.09090909,\n",
       "        -8.68686869,  -8.28282828,  -7.87878788,  -7.47474747,\n",
       "        -7.07070707,  -6.66666667,  -6.26262626,  -5.85858586,\n",
       "        -5.45454545,  -5.05050505,  -4.64646465,  -4.24242424,\n",
       "        -3.83838384,  -3.43434343,  -3.03030303,  -2.62626263,\n",
       "        -2.22222222,  -1.81818182,  -1.41414141,  -1.01010101,\n",
       "        -0.60606061,  -0.2020202 ,   0.2020202 ,   0.60606061,\n",
       "         1.01010101,   1.41414141,   1.81818182,   2.22222222,\n",
       "         2.62626263,   3.03030303,   3.43434343,   3.83838384,\n",
       "         4.24242424,   4.64646465,   5.05050505,   5.45454545,\n",
       "         5.85858586,   6.26262626,   6.66666667,   7.07070707,\n",
       "         7.47474747,   7.87878788,   8.28282828,   8.68686869,\n",
       "         9.09090909,   9.49494949,   9.8989899 ,  10.3030303 ,\n",
       "        10.70707071,  11.11111111,  11.51515152,  11.91919192,\n",
       "        12.32323232,  12.72727273,  13.13131313,  13.53535354,\n",
       "        13.93939394,  14.34343434,  14.74747475,  15.15151515,\n",
       "        15.55555556,  15.95959596,  16.36363636,  16.76767677,\n",
       "        17.17171717,  17.57575758,  17.97979798,  18.38383838,\n",
       "        18.78787879,  19.19191919,  19.5959596 ,  20.        ])"
      ]
     },
     "execution_count": 44,
     "metadata": {},
     "output_type": "execute_result"
    }
   ],
   "source": [
    "T"
   ]
  },
  {
   "cell_type": "code",
   "execution_count": 45,
   "metadata": {},
   "outputs": [],
   "source": [
    "Y = sigmoid(T)"
   ]
  },
  {
   "cell_type": "code",
   "execution_count": 22,
   "metadata": {},
   "outputs": [
    {
     "data": {
      "text/plain": [
       "array([2.06115362e-09, 3.08732876e-09, 4.62440004e-09, 6.92672447e-09,\n",
       "       1.03752944e-08, 1.55407847e-08, 2.32779890e-08, 3.48672722e-08,\n",
       "       5.22264472e-08, 7.82281373e-08, 1.17175143e-07, 1.75512472e-07,\n",
       "       2.62893872e-07, 3.93779338e-07, 5.89827961e-07, 8.83482085e-07,\n",
       "       1.32333584e-06, 1.98217642e-06, 2.96902870e-06, 4.44719601e-06,\n",
       "       6.66128213e-06, 9.97766470e-06, 1.49451152e-05, 2.23855904e-05,\n",
       "       3.35302067e-05, 5.02228667e-05, 7.52251664e-05, 1.12672884e-04,\n",
       "       1.68759242e-04, 2.52757236e-04, 3.78548446e-04, 5.66907423e-04,\n",
       "       8.48910885e-04, 1.27101626e-03, 1.90260614e-03, 2.84714919e-03,\n",
       "       4.25860705e-03, 6.36532037e-03, 9.50426753e-03, 1.41690589e-02,\n",
       "       2.10746635e-02, 3.12392175e-02, 4.60755062e-02, 6.74672091e-02,\n",
       "       9.77725999e-02, 1.39652183e-01, 1.95581668e-01, 2.66960083e-01,\n",
       "       3.52958350e-01, 4.49666020e-01, 5.50333980e-01, 6.47041650e-01,\n",
       "       7.33039917e-01, 8.04418332e-01, 8.60347817e-01, 9.02227400e-01,\n",
       "       9.32532791e-01, 9.53924494e-01, 9.68760783e-01, 9.78925337e-01,\n",
       "       9.85830941e-01, 9.90495732e-01, 9.93634680e-01, 9.95741393e-01,\n",
       "       9.97152851e-01, 9.98097394e-01, 9.98728984e-01, 9.99151089e-01,\n",
       "       9.99433093e-01, 9.99621452e-01, 9.99747243e-01, 9.99831241e-01,\n",
       "       9.99887327e-01, 9.99924775e-01, 9.99949777e-01, 9.99966470e-01,\n",
       "       9.99977614e-01, 9.99985055e-01, 9.99990022e-01, 9.99993339e-01,\n",
       "       9.99995553e-01, 9.99997031e-01, 9.99998018e-01, 9.99998677e-01,\n",
       "       9.99999117e-01, 9.99999410e-01, 9.99999606e-01, 9.99999737e-01,\n",
       "       9.99999824e-01, 9.99999883e-01, 9.99999922e-01, 9.99999948e-01,\n",
       "       9.99999965e-01, 9.99999977e-01, 9.99999984e-01, 9.99999990e-01,\n",
       "       9.99999993e-01, 9.99999995e-01, 9.99999997e-01, 9.99999998e-01])"
      ]
     },
     "execution_count": 22,
     "metadata": {},
     "output_type": "execute_result"
    }
   ],
   "source": [
    "Y"
   ]
  },
  {
   "cell_type": "code",
   "execution_count": 46,
   "metadata": {},
   "outputs": [
    {
     "data": {
      "text/plain": [
       "[<matplotlib.lines.Line2D at 0x1100b9710>]"
      ]
     },
     "execution_count": 46,
     "metadata": {},
     "output_type": "execute_result"
    },
    {
     "data": {
      "image/png": "[encoded data removed]",
      "text/plain": [
       "<Figure size 432x288 with 1 Axes>"
      ]
     },
     "metadata": {},
     "output_type": "display_data"
    }
   ],
   "source": [
    "plt.plot(T,Y)"
   ]
  },
  {
   "cell_type": "code",
   "execution_count": 47,
   "metadata": {},
   "outputs": [],
   "source": [
    "# drivative of sigmoid function, p = prime\n",
    "def sigmoid_p(x):\n",
    "    return sigmoid(x) * (1-sigmoid(x))"
   ]
  },
  {
   "cell_type": "code",
   "execution_count": 48,
   "metadata": {},
   "outputs": [
    {
     "data": {
      "text/plain": [
       "[<matplotlib.lines.Line2D at 0x110012828>]"
      ]
     },
     "execution_count": 48,
     "metadata": {},
     "output_type": "execute_result"
    },
    {
     "data": {
      "image/png": "[encoded data removed]",
      "text/plain": [
       "<Figure size 432x288 with 1 Axes>"
      ]
     },
     "metadata": {},
     "output_type": "display_data"
    }
   ],
   "source": [
    "plt.plot(T,sigmoid(T), c = 'r')\n",
    "plt.plot(T,sigmoid_p(T), c = 'b')"
   ]
  },
  {
   "cell_type": "code",
   "execution_count": 49,
   "metadata": {},
   "outputs": [
    {
     "data": {
      "image/png": "[encoded data removed]",
      "text/plain": [
       "<Figure size 432x288 with 1 Axes>"
      ]
     },
     "metadata": {},
     "output_type": "display_data"
    }
   ],
   "source": [
    "# scatter data\n",
    "plt.axis([0,6,0,6])\n",
    "plt.grid()\n",
    "for i in range(len(data)):\n",
    "    point = data[i]\n",
    "    color = 'r'\n",
    "    if point[2] == 0:\n",
    "        color = \"b\"\n",
    "    plt.scatter(point[0],point[1], c=color)"
   ]
  },
  {
   "cell_type": "code",
   "execution_count": 52,
   "metadata": {},
   "outputs": [
    {
     "data": {
      "text/plain": [
       "[<matplotlib.lines.Line2D at 0x10fdb7a20>]"
      ]
     },
     "execution_count": 52,
     "metadata": {},
     "output_type": "execute_result"
    },
    {
     "data": {
      "image/png": "[encoded data removed]",
      "text/plain": [
       "<Figure size 432x288 with 1 Axes>"
      ]
     },
     "metadata": {},
     "output_type": "display_data"
    }
   ],
   "source": [
    "# training loop\n",
    "\n",
    "learning_rate = 0.2\n",
    "costs = []\n",
    "\n",
    "w1 = np.random.randn()\n",
    "w2 = np.random.randn()\n",
    "b = np.random.randn()\n",
    "\n",
    "for i in range(50000):\n",
    "    ri = np.random.randint(len(data))\n",
    "    point = data[ri]\n",
    "    \n",
    "    z = point[0] * w1 + point[1] * w2 + b\n",
    "    pred = sigmoid(z)\n",
    "    \n",
    "    target = point[2]\n",
    "    cost = np.square(pred - target)\n",
    "    \n",
    "    dcost_pred = 2 * (pred - target)\n",
    "    dpred_dz = sigmoid_p(z)\n",
    "    \n",
    "    dz_dw1 = point[0]\n",
    "    dz_dw2 = point[1]\n",
    "    dz_db = 1\n",
    "    \n",
    "    dcost_dz = dcost_pred * dpred_dz\n",
    "    \n",
    "    dcost_dw1 = dcost_dz * dz_dw1\n",
    "    dcost_dw2 = dcost_dz * dz_dw2\n",
    "    dcost_db = dcost_dz * dz_db\n",
    "    \n",
    "    w1 = w1 - learning_rate * dcost_dw1\n",
    "    w2 = w2 - learning_rate * dcost_dw2\n",
    "    b = b - learning_rate * dcost_db\n",
    "    \n",
    "    if i % 100 == 0:\n",
    "        cost_sum = 0\n",
    "        for j in range(len(data)):\n",
    "            point = data[ri]\n",
    "            \n",
    "            z = point[0] * w1 + point[1] * w2 + b\n",
    "            pred = sigmoid(z)\n",
    "            \n",
    "            target = point[2]\n",
    "            cost_sum += np.square(pred - target)\n",
    "        \n",
    "        costs.append(cost_sum/len(data))\n",
    "    \n",
    "plt.plot(costs)\n",
    "    "
   ]
  },
  {
   "cell_type": "code",
   "execution_count": 53,
   "metadata": {},
   "outputs": [
    {
     "name": "stdout",
     "output_type": "stream",
     "text": [
      "0.9999129995600006\n",
      "close to 0 -> blue, close to 1 -> red\n"
     ]
    }
   ],
   "source": [
    "# predict what the myster flower is!\n",
    "\n",
    "z = w1 * mystery_flower[0] + w2 * mystery_flower[1] + b\n",
    "pred = sigmoid(z)\n",
    "\n",
    "print(pred)\n",
    "print(\"close to 0 -> blue, close to 1 -> red\")"
   ]
  },
  {
   "cell_type": "code",
   "execution_count": 55,
   "metadata": {},
   "outputs": [
    {
     "data": {
      "image/png": "[encoded data removed]",
      "text/plain": [
       "<Figure size 432x288 with 1 Axes>"
      ]
     },
     "metadata": {},
     "output_type": "display_data"
    }
   ],
   "source": [
    "# scatter plot them\n",
    "def vis_data():\n",
    "    plt.grid()\n",
    "\n",
    "    for i in range(len(data)):\n",
    "        c = 'r'\n",
    "        if data[i][2] == 0:\n",
    "            c = 'b'\n",
    "        plt.scatter([data[i][0]], [data[i][1]], c=c)\n",
    "\n",
    "    plt.scatter([mystery_flower[0]], [mystery_flower[1]], c='gray')\n",
    "\n",
    "vis_data()"
   ]
  },
  {
   "cell_type": "code",
   "execution_count": 56,
   "metadata": {},
   "outputs": [
    {
     "data": {
      "image/png": "[encoded data removed]",
      "text/plain": [
       "<Figure size 432x288 with 1 Axes>"
      ]
     },
     "metadata": {},
     "output_type": "display_data"
    }
   ],
   "source": [
    "# check out the networks predictions in the x,y plane\n",
    "for x in np.linspace(0, 6, 20):\n",
    "    for y in np.linspace(0, 3, 20):\n",
    "        pred = sigmoid(w1 * x + w2 * y + b)\n",
    "        c = 'b'\n",
    "        if pred > .5:\n",
    "            c = 'r'\n",
    "        plt.scatter([x],[y],c=c, alpha=.2)\n",
    "        \n",
    "# plot points over network predictions\n",
    "# you should see a split, with half the predictions blue\n",
    "# and the other half red.. nicely predicting each data point!\n",
    "vis_data()"
   ]
  },
  {
   "cell_type": "code",
   "execution_count": null,
   "metadata": {},
   "outputs": [],
   "source": []
  }
 ],
 "metadata": {
  "kernelspec": {
   "display_name": "Python 3",
   "language": "python",
   "name": "python3"
  },
  "language_info": {
   "codemirror_mode": {
    "name": "ipython",
    "version": 3
   },
   "file_extension": ".py",
   "mimetype": "text/x-python",
   "name": "python",
   "nbconvert_exporter": "python",
   "pygments_lexer": "ipython3",
   "version": "3.6.5"
  }
 },
 "nbformat": 4,
 "nbformat_minor": 2
}
